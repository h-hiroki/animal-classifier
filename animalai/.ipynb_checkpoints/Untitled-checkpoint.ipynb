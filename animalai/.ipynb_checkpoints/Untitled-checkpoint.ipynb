{
 "cells": [
  {
   "cell_type": "code",
   "execution_count": 1,
   "metadata": {},
   "outputs": [],
   "source": [
    "from PIL import Image\n",
    "import os, glob\n",
    "import numpy as np\n",
    "from sklearn import model_selection\n",
    "\n",
    "classes = [\"monkey\", \"boar\", \"crow\"]\n",
    "num_classes = len(classes)\n",
    "IMAGE_SIZE = 50\n",
    "\n",
    "# 画像の読み込み\n",
    "\n",
    "X = []\n",
    "Y = []\n",
    "for index, classlabel in enumerate(classes):\n",
    "    photos_dir = \"./\" + classlabel\n",
    "    files = glob.glob(photos_dir + \"/*.jpg\")\n",
    "    for i, file in enumerate(files):\n",
    "        if i >= 200: break\n",
    "        image = Image.open(file)\n",
    "        image = image.convert(\"RGB\")\n",
    "        image = image.resize((IMAGE_SIZE, IMAGE_SIZE))\n",
    "        data = np.asarray(image)\n",
    "        X.append(data)\n",
    "        Y.append(index)\n",
    "\n",
    "X = np.array(X)\n",
    "Y = np.array(Y)\n"
   ]
  },
  {
   "cell_type": "code",
   "execution_count": 5,
   "metadata": {},
   "outputs": [
    {
     "data": {
      "text/plain": [
       "array([[[ 62,  61,  57],\n",
       "        [157, 152, 148],\n",
       "        [148, 143, 139],\n",
       "        ...,\n",
       "        [114, 108, 120],\n",
       "        [112, 105, 113],\n",
       "        [ 94,  87,  95]],\n",
       "\n",
       "       [[114, 111, 106],\n",
       "        [ 98,  88,  78],\n",
       "        [157, 152, 146],\n",
       "        ...,\n",
       "        [ 88,  83,  90],\n",
       "        [ 89,  82,  90],\n",
       "        [ 99,  92, 100]],\n",
       "\n",
       "       [[137, 134, 127],\n",
       "        [106,  90,  74],\n",
       "        [144, 137, 129],\n",
       "        ...,\n",
       "        [ 76,  71,  78],\n",
       "        [ 86,  81,  88],\n",
       "        [ 88,  83,  90]],\n",
       "\n",
       "       ...,\n",
       "\n",
       "       [[113, 114, 106],\n",
       "        [ 86,  88,  77],\n",
       "        [117, 120, 111],\n",
       "        ...,\n",
       "        [ 83,  80,  87],\n",
       "        [ 59,  58,  63],\n",
       "        [ 83,  82,  87]],\n",
       "\n",
       "       [[110, 118, 121],\n",
       "        [113, 108, 115],\n",
       "        [ 93, 109,  80],\n",
       "        ...,\n",
       "        [111, 112, 116],\n",
       "        [ 91,  89,  90],\n",
       "        [ 85,  83,  86]],\n",
       "\n",
       "       [[ 97, 106, 103],\n",
       "        [ 18,  14,  13],\n",
       "        [ 73,  91,  53],\n",
       "        ...,\n",
       "        [ 73,  74,  66],\n",
       "        [ 71,  70,  68],\n",
       "        [ 80,  79,  77]]], dtype=uint8)"
      ]
     },
     "execution_count": 5,
     "metadata": {},
     "output_type": "execute_result"
    }
   ],
   "source": [
    "X[0]"
   ]
  },
  {
   "cell_type": "code",
   "execution_count": 6,
   "metadata": {},
   "outputs": [
    {
     "data": {
      "text/plain": [
       "600"
      ]
     },
     "execution_count": 6,
     "metadata": {},
     "output_type": "execute_result"
    }
   ],
   "source": [
    "len(X)"
   ]
  },
  {
   "cell_type": "code",
   "execution_count": 7,
   "metadata": {},
   "outputs": [
    {
     "data": {
      "text/plain": [
       "0"
      ]
     },
     "execution_count": 7,
     "metadata": {},
     "output_type": "execute_result"
    }
   ],
   "source": [
    "Y[100]"
   ]
  },
  {
   "cell_type": "code",
   "execution_count": 11,
   "metadata": {},
   "outputs": [
    {
     "data": {
      "text/plain": [
       "2"
      ]
     },
     "execution_count": 11,
     "metadata": {},
     "output_type": "execute_result"
    }
   ],
   "source": [
    "Y[599]"
   ]
  },
  {
   "cell_type": "code",
   "execution_count": null,
   "metadata": {},
   "outputs": [],
   "source": []
  }
 ],
 "metadata": {
  "kernelspec": {
   "display_name": "Python 3",
   "language": "python",
   "name": "python3"
  },
  "language_info": {
   "codemirror_mode": {
    "name": "ipython",
    "version": 3
   },
   "file_extension": ".py",
   "mimetype": "text/x-python",
   "name": "python",
   "nbconvert_exporter": "python",
   "pygments_lexer": "ipython3",
   "version": "3.6.7"
  }
 },
 "nbformat": 4,
 "nbformat_minor": 2
}
