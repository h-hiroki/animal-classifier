{
 "cells": [
  {
   "cell_type": "code",
   "execution_count": 12,
   "metadata": {},
   "outputs": [],
   "source": [
    "from PIL import Image\n",
    "import os, glob\n",
    "import numpy as np\n",
    "from sklearn import model_selection\n",
    "\n",
    "classes = [\"monkey\", \"boar\", \"crow\"]\n",
    "num_classes = len(classes)\n",
    "IMAGE_SIZE = 50\n",
    "\n",
    "# 画像の読み込み\n",
    "\n",
    "X = []\n",
    "Y = []\n",
    "for index, classlabel in enumerate(classes):\n",
    "    photos_dir = \"./\" + classlabel\n",
    "    files = glob.glob(photos_dir + \"/*.jpg\")\n",
    "    for i, file in enumerate(files):\n",
    "        if i >= 200: break\n",
    "        image = Image.open(file)\n",
    "        image = image.convert(\"RGB\")\n",
    "        image = image.resize((IMAGE_SIZE, IMAGE_SIZE))\n",
    "        data = np.asarray(image)\n",
    "        X.append(data)\n",
    "        Y.append(index)\n",
    "\n",
    "X = np.array(X)\n",
    "Y = np.array(Y)\n",
    "\n",
    "X_train, X_test, Y_train, Y_test = model_selection.train_test_split(X, Y)\n",
    "xy = (X_train, X_test, Y_train, Y_test)\n",
    "np.save(\"./animal.npy\", xy)"
   ]
  },
  {
   "cell_type": "code",
   "execution_count": 13,
   "metadata": {},
   "outputs": [
    {
     "data": {
      "text/plain": [
       "450"
      ]
     },
     "execution_count": 13,
     "metadata": {},
     "output_type": "execute_result"
    }
   ],
   "source": [
    "len(X_train)"
   ]
  },
  {
   "cell_type": "code",
   "execution_count": 14,
   "metadata": {},
   "outputs": [
    {
     "data": {
      "text/plain": [
       "150"
      ]
     },
     "execution_count": 14,
     "metadata": {},
     "output_type": "execute_result"
    }
   ],
   "source": [
    "len(X_test)"
   ]
  },
  {
   "cell_type": "code",
   "execution_count": 16,
   "metadata": {},
   "outputs": [
    {
     "data": {
      "text/plain": [
       "150"
      ]
     },
     "execution_count": 16,
     "metadata": {},
     "output_type": "execute_result"
    }
   ],
   "source": [
    "len(Y_test)"
   ]
  },
  {
   "cell_type": "code",
   "execution_count": 17,
   "metadata": {},
   "outputs": [
    {
     "data": {
      "text/plain": [
       "450"
      ]
     },
     "execution_count": 17,
     "metadata": {},
     "output_type": "execute_result"
    }
   ],
   "source": [
    "len(Y_train)"
   ]
  },
  {
   "cell_type": "code",
   "execution_count": 18,
   "metadata": {},
   "outputs": [
    {
     "data": {
      "text/plain": [
       "array([[[225, 236,  70],\n",
       "        [236, 232,  62],\n",
       "        [242, 229,  63],\n",
       "        ...,\n",
       "        [245, 235,  78],\n",
       "        [244, 236,  67],\n",
       "        [245, 236,  73]],\n",
       "\n",
       "       [[249, 220,  58],\n",
       "        [235, 226,  59],\n",
       "        [226, 224,  61],\n",
       "        ...,\n",
       "        [250, 244,  70],\n",
       "        [248, 243,  65],\n",
       "        [239, 233,  57]],\n",
       "\n",
       "       [[240, 211,  55],\n",
       "        [234, 219,  66],\n",
       "        [228, 217,  67],\n",
       "        ...,\n",
       "        [245, 237,  66],\n",
       "        [248, 242,  68],\n",
       "        [238, 232,  58]],\n",
       "\n",
       "       ...,\n",
       "\n",
       "       [[246, 205, 100],\n",
       "        [255, 210,  75],\n",
       "        [210, 213,  60],\n",
       "        ...,\n",
       "        [255, 240, 149],\n",
       "        [200, 221,  54],\n",
       "        [200, 195,  51]],\n",
       "\n",
       "       [[216, 204,  86],\n",
       "        [255, 236, 156],\n",
       "        [207, 226, 101],\n",
       "        ...,\n",
       "        [253, 224, 106],\n",
       "        [236, 240,  93],\n",
       "        [214, 218,  69]],\n",
       "\n",
       "       [[226, 221,  75],\n",
       "        [196, 170,  33],\n",
       "        [200, 215,  72],\n",
       "        ...,\n",
       "        [236, 204,  59],\n",
       "        [231, 228,  75],\n",
       "        [223, 213,  89]]], dtype=uint8)"
      ]
     },
     "execution_count": 18,
     "metadata": {},
     "output_type": "execute_result"
    }
   ],
   "source": [
    "X_train[100]"
   ]
  },
  {
   "cell_type": "code",
   "execution_count": 19,
   "metadata": {},
   "outputs": [
    {
     "data": {
      "text/plain": [
       "2"
      ]
     },
     "execution_count": 19,
     "metadata": {},
     "output_type": "execute_result"
    }
   ],
   "source": [
    "Y_train[100]"
   ]
  },
  {
   "cell_type": "code",
   "execution_count": null,
   "metadata": {},
   "outputs": [],
   "source": []
  }
 ],
 "metadata": {
  "kernelspec": {
   "display_name": "Python 3",
   "language": "python",
   "name": "python3"
  },
  "language_info": {
   "codemirror_mode": {
    "name": "ipython",
    "version": 3
   },
   "file_extension": ".py",
   "mimetype": "text/x-python",
   "name": "python",
   "nbconvert_exporter": "python",
   "pygments_lexer": "ipython3",
   "version": "3.6.7"
  }
 },
 "nbformat": 4,
 "nbformat_minor": 2
}
